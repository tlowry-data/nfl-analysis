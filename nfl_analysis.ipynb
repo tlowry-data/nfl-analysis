{
 "cells": [
  {
   "cell_type": "code",
   "execution_count": 2,
   "metadata": {},
   "outputs": [],
   "source": [
    "import pandas as pd\n",
    "import numpy as np\n",
    "import pandas as pd\n",
    "import psycopg2\n",
    "import numpy as np\n",
    "import json\n",
    "import urllib3\n",
    "import certifi\n",
    "import requests\n",
    "import re\n",
    "from tabulate import tabulate\n",
    "from datetime import datetime\n",
    "from datetime import date\n",
    "import os\n",
    "from os.path import exists\n",
    "import os.path\n",
    "import shutil \n",
    "import pygsheets\n",
    "from timeit import default_timer\n",
    "import csv\n",
    "import dask.dataframe as dd\n",
    "import nfl_data_py as nfl\n"
   ]
  },
  {
   "cell_type": "code",
   "execution_count": 12,
   "metadata": {},
   "outputs": [
    {
     "name": "stdout",
     "output_type": "stream",
     "text": [
      "Downcasting floats.\n"
     ]
    }
   ],
   "source": [
    "#Create the year range\n",
    "nfl_yr = [*range(2000,2023, 1)]\n",
    "\n",
    "#Create data set using year range\n",
    "data = nfl.import_weekly_data(years = nfl_yr, downcast= True )\n",
    "\n"
   ]
  },
  {
   "cell_type": "code",
   "execution_count": 10,
   "metadata": {},
   "outputs": [
    {
     "data": {
      "text/plain": [
       "array(['RB', 'DB', 'SPEC', 'QB', 'WR', 'TE', 'OL', 'LB', 'DL', None],\n",
       "      dtype=object)"
      ]
     },
     "execution_count": 10,
     "metadata": {},
     "output_type": "execute_result"
    }
   ],
   "source": [
    "data['position_group'].unique()"
   ]
  },
  {
   "cell_type": "code",
   "execution_count": 24,
   "metadata": {},
   "outputs": [],
   "source": [
    "#Create QB Data set\n",
    "#data_qb = data[data['position_group']=='QB']\n",
    "options = ['position_group']\n",
    "#Create Non QB Data Set\n",
    "data_other =  data[(data['position_group']!='QB') |\n",
    "                   (data['position_group']!= 'SPEC').isin(options)]\n",
    "\n",
    "data_other.head()\n",
    "\n",
    "data_other['position_group'].unique()\n",
    "\n",
    "\n",
    "data_other.to_csv('nfl_other.csv')\n"
   ]
  },
  {
   "cell_type": "code",
   "execution_count": null,
   "metadata": {},
   "outputs": [],
   "source": [
    "#Create dateframe of play by play data\n",
    "data2_df = nfl.import_pbp_data(years = nfl_yr, downcast=True, cache=False, alt_path=None)\n",
    "\n",
    "\n"
   ]
  },
  {
   "cell_type": "code",
   "execution_count": 6,
   "metadata": {},
   "outputs": [],
   "source": [
    "#Create subset of data with QB to Target data\n",
    "data2_qb= data2_df[['passer_player_id','desc','play_id','home_team','away_team','season','season_type','week','posteam','posteam_type','defteam','play_type', 'yards_gained', 'pass_length','qtr', 'qb_dropback','qb_spike','qb_scramble','ydstogo','time','game_half','game_date','desc','incomplete_pass','td_team','td_player_name','td_player_id','total_home_score','total_home_score','defteam_score','passer_player_name', 'passing_yards', 'receiver_player_id', 'receiver_player_name','receiving_yards','interception_player_id', 'interception_player_id','interception_player_name','lateral_interception_player_id','lateral_interception_player_name','surface', 'location','passer','id','fantasy_player_name','fantasy_player_id','fantasy_id','epa','out_of_bounds','home_score','location','away_score','home_coach','away_coach','series_result']]\n"
   ]
  },
  {
   "cell_type": "code",
   "execution_count": null,
   "metadata": {},
   "outputs": [],
   "source": [
    "\n",
    "#Remove null values in QB column\n",
    "data2_qb= data2_qb.dropna(subset = 'passer_player_id')\n",
    "\n",
    "#Rename the column 'Desc'\n",
    "data2_qb.rename(columns = {\"desc\":\"desc1\"}, inplace = True)\n",
    "\n",
    "data2_qb.head()\n",
    "\n"
   ]
  },
  {
   "cell_type": "code",
   "execution_count": 8,
   "metadata": {},
   "outputs": [],
   "source": [
    "data2_qb.to_csv('qb_pbp.csv')"
   ]
  },
  {
   "cell_type": "code",
   "execution_count": 26,
   "metadata": {},
   "outputs": [],
   "source": [
    "roster = nfl.import_rosters(years = nfl_yr)\n",
    "roster.head()\n",
    "\n",
    "roster.to_csv('roster.csv')"
   ]
  },
  {
   "cell_type": "code",
   "execution_count": null,
   "metadata": {},
   "outputs": [],
   "source": []
  }
 ],
 "metadata": {
  "kernelspec": {
   "display_name": "Python 3",
   "language": "python",
   "name": "python3"
  },
  "language_info": {
   "codemirror_mode": {
    "name": "ipython",
    "version": 3
   },
   "file_extension": ".py",
   "mimetype": "text/x-python",
   "name": "python",
   "nbconvert_exporter": "python",
   "pygments_lexer": "ipython3",
   "version": "3.9.6"
  },
  "orig_nbformat": 4
 },
 "nbformat": 4,
 "nbformat_minor": 2
}
